{
 "cells": [
  {
   "cell_type": "code",
   "execution_count": 1,
   "metadata": {},
   "outputs": [],
   "source": [
    "import numpy\n",
    "import torch\n",
    "import torch.utils.data\n",
    "import torchvision.transforms as transforms\n",
    "import torchvision.datasets as dset\n",
    "from torch.utils.data import Dataset"
   ]
  },
  {
   "cell_type": "code",
   "execution_count": 2,
   "metadata": {},
   "outputs": [],
   "source": [
    "%load_ext autoreload\n",
    "%autoreload 2\n"
   ]
  },
  {
   "cell_type": "code",
   "execution_count": null,
   "metadata": {},
   "outputs": [],
   "source": []
  },
  {
   "cell_type": "code",
   "execution_count": 3,
   "metadata": {},
   "outputs": [],
   "source": [
    "class Params:\n",
    "    def __init__(self):\n",
    "        self.batchSize = 64\n",
    "        self.Stage1imageSize = 64\n",
    "        self.Stage2imageSize = 128\n",
    "        self.LAMBDA = 10\n",
    "        self.lr= 0.0002\n",
    "        self.nc = 3\n",
    "        self.nz = 100\n",
    "        self.ngf = 64\n",
    "        self.ndf = 64\n",
    "        self.dataroot = '/home/pytorch/projects/lsun'\n",
    "        self.workers = 1\n",
    "        self.restart = ''\n",
    "        self.cuda = True\n",
    "        self.beta1 = 0.5\n",
    "opt = Params()"
   ]
  },
  {
   "cell_type": "code",
   "execution_count": 4,
   "metadata": {},
   "outputs": [],
   "source": [
    "#Image superresolution [64x64->128x128]\n",
    "#We would like to do supervised training so as to produce 128x128 images from 64x64 \n",
    "#Together with this, we add adversarial terms. This is a rather roundabout way of reimplementing pix2pix maybe"
   ]
  },
  {
   "cell_type": "code",
   "execution_count": 5,
   "metadata": {},
   "outputs": [],
   "source": [
    "#Pull out things from https://github.com/pytorch/vision/tree/master/torchvision/datasets to create \n",
    "#a new dataset class\n",
    "#We want a dataloader that can emit both 64x64 and 128x128 data at the same time with 'enumerate'\n",
    "#Then we make the generator produce 128x128 taking in 64x64 as input which we then train"
   ]
  },
  {
   "cell_type": "code",
   "execution_count": 6,
   "metadata": {},
   "outputs": [],
   "source": [
    "def make_dataset(dir):\n",
    "    import os\n",
    "    images = []\n",
    "    d = os.path.expanduser(dir)\n",
    "    \n",
    "    if not os.path.exists(dir):\n",
    "        print('path does not exist')\n",
    "\n",
    "    for root, _, fnames in sorted(os.walk(d)):\n",
    "        for fname in sorted(fnames):\n",
    "            path = os.path.join(root, fname)\n",
    "            images.append(path)\n",
    "    return images"
   ]
  },
  {
   "cell_type": "code",
   "execution_count": null,
   "metadata": {},
   "outputs": [],
   "source": []
  },
  {
   "cell_type": "code",
   "execution_count": 7,
   "metadata": {},
   "outputs": [],
   "source": [
    "def pil_loader(path):\n",
    "    from PIL import Image\n",
    "    # open path as file to avoid ResourceWarning (https://github.com/python-pillow/Pillow/issues/835)\n",
    "    with open(path, 'rb') as f:\n",
    "        img = Image.open(f)\n",
    "        return img.convert('RGB')"
   ]
  },
  {
   "cell_type": "code",
   "execution_count": 8,
   "metadata": {},
   "outputs": [],
   "source": [
    "class ImageFolder(Dataset):\n",
    "    \"\"\"A generic data loader where the images are arranged in this way: ::\n",
    "        root/dog/xxx.png\n",
    "        root/dog/xxy.png\n",
    "        root/dog/xxz.png\n",
    "        root/cat/123.png\n",
    "        root/cat/nsdf3.png\n",
    "        root/cat/asd932_.png\n",
    "    Args:\n",
    "        root (string): Root directory path.\n",
    "        transform (callable, optional): A function/transform that  takes in an PIL image\n",
    "            and returns a transformed version. E.g, ``transforms.RandomCrop``\n",
    "        target_transform (callable, optional): A function/transform that takes in the\n",
    "            target and transforms it.\n",
    "        loader (callable, optional): A function to load an image given its path.\n",
    "        is_valid_file (callable, optional): A function that takes path of an Image file\n",
    "            and check if the file is a valid_file (used to check of corrupt files)\n",
    "     Attributes:\n",
    "        classes (list): List of the class names.\n",
    "        class_to_idx (dict): Dict with items (class_name, class_index).\n",
    "        imgs (list): List of (image path, class_index) tuples\n",
    "    \"\"\"\n",
    "\n",
    "    def __init__(self, root, transformA=None, transformB=None):\n",
    "        \n",
    "        self.samples = make_dataset(opt.dataroot)\n",
    "        self.imgs = self.samples\n",
    "        self.transformA = transformA\n",
    "        self.transformB = transformB\n",
    "        \n",
    "    def __getitem__(self, index):\n",
    "        \"\"\"\n",
    "        Args:\n",
    "        index (int): Index\n",
    "        Returns:\n",
    "        tuple: (sample, target) where target is class_index of the target class.\n",
    "        \"\"\"\n",
    "        path = self.samples[index]\n",
    "        sample = pil_loader(path)\n",
    "        \n",
    "        if self.transformA is not None:\n",
    "            sampleA = self.transformA(sample)\n",
    "            \n",
    "        if self.transformB is not None:\n",
    "            sampleB = self.transformB(sample)\n",
    "            \n",
    "        return sampleA, sampleB\n",
    "\n",
    "    def __len__(self):\n",
    "        return len(self.samples)\n"
   ]
  },
  {
   "cell_type": "code",
   "execution_count": 9,
   "metadata": {},
   "outputs": [],
   "source": [
    "transformA = transforms.Compose([\n",
    "                                transforms.Resize(opt.Stage1imageSize),\n",
    "                                transforms.CenterCrop(opt.Stage1imageSize),\n",
    "                                transforms.ToTensor(),\n",
    "                                transforms.Normalize((0.5, 0.5, 0.5), (0.5, 0.5, 0.5)),])\n",
    "\n",
    "transformB = transforms.Compose([\n",
    "                                transforms.Resize(opt.Stage2imageSize),\n",
    "                                transforms.CenterCrop(opt.Stage2imageSize),\n",
    "                                transforms.ToTensor(),\n",
    "                                transforms.Normalize((0.5, 0.5, 0.5), (0.5, 0.5, 0.5)),])"
   ]
  },
  {
   "cell_type": "code",
   "execution_count": 10,
   "metadata": {},
   "outputs": [],
   "source": [
    "dataset = ImageFolder(root=opt.dataroot,\n",
    "                                transformA=transformA,transformB=transformB)\n",
    "\n",
    "#Now we create a dataloader that dumps out both 64x64 and 128x128 when called with 'enumerate'\n",
    "dataloader = torch.utils.data.DataLoader(dataset, batch_size=opt.batchSize,\n",
    "                                         shuffle=True, num_workers=int(opt.workers))"
   ]
  },
  {
   "cell_type": "code",
   "execution_count": 11,
   "metadata": {},
   "outputs": [],
   "source": [
    "#dataloaderStage1, dataloaderStage2 = get_data_loaders(opt)"
   ]
  },
  {
   "cell_type": "code",
   "execution_count": null,
   "metadata": {},
   "outputs": [],
   "source": []
  },
  {
   "cell_type": "code",
   "execution_count": 12,
   "metadata": {},
   "outputs": [],
   "source": [
    "%aimport model\n",
    "#from model import G_Stage1\n",
    "#from model import D_Stage1\n",
    "from model import G_Stage2\n",
    "from model import D_Stage2\n",
    "from model import D_Stage2_4x4"
   ]
  },
  {
   "cell_type": "code",
   "execution_count": 13,
   "metadata": {},
   "outputs": [
    {
     "data": {
      "text/plain": [
       "3"
      ]
     },
     "execution_count": 13,
     "metadata": {},
     "output_type": "execute_result"
    }
   ],
   "source": [
    "opt.nc"
   ]
  },
  {
   "cell_type": "code",
   "execution_count": 14,
   "metadata": {},
   "outputs": [],
   "source": [
    "#G1 = G_Stage1(opt.nc, opt.nz, opt.ngf).cuda()\n",
    "#D1 = D_Stage1(opt.nc, opt.ndf).cuda()\n",
    "G2 = G_Stage2(opt.nc, opt.ngf).cuda()\n",
    "D2 = D_Stage2(opt.nc, opt.ndf).cuda()\n",
    "D2_4x4 = D_Stage2_4x4(opt.nc, opt.ndf).cuda()\n"
   ]
  },
  {
   "cell_type": "code",
   "execution_count": 15,
   "metadata": {},
   "outputs": [
    {
     "data": {
      "text/plain": [
       "'/home/pytorch/projects/SR_PatchGAN_lsun'"
      ]
     },
     "execution_count": 15,
     "metadata": {},
     "output_type": "execute_result"
    }
   ],
   "source": [
    "pwd"
   ]
  },
  {
   "cell_type": "code",
   "execution_count": 16,
   "metadata": {},
   "outputs": [],
   "source": [
    "%aimport train2\n",
    "from train2 import run_trainer2"
   ]
  },
  {
   "cell_type": "code",
   "execution_count": null,
   "metadata": {
    "scrolled": false
   },
   "outputs": [
    {
     "name": "stdout",
     "output_type": "stream",
     "text": [
      "saving images for batch 0\n",
      "0 [0/47392] G Loss [L1/GAdv/PAdv] [0.2732/0.0630/0.0224] Loss D (real/fake/fake4x4) [1.8395/33.4162/0.5671]\n",
      "saving images for batch 100\n",
      "0 [100/47392] G Loss [L1/GAdv/PAdv] [0.2238/0.0279/0.0180] Loss D (real/fake/fake4x4) [0.1176/0.0217/0.1047]\n",
      "saving images for batch 200\n",
      "0 [200/47392] G Loss [L1/GAdv/PAdv] [0.2545/0.4821/0.0175] Loss D (real/fake/fake4x4) [1.3425/9.6154/0.1391]\n",
      "saving images for batch 300\n",
      "0 [300/47392] G Loss [L1/GAdv/PAdv] [0.2470/0.0325/0.0182] Loss D (real/fake/fake4x4) [0.1483/0.2608/0.1851]\n",
      "saving images for batch 400\n",
      "0 [400/47392] G Loss [L1/GAdv/PAdv] [0.2132/0.0223/0.0174] Loss D (real/fake/fake4x4) [0.0537/0.0099/0.1098]\n",
      "saving images for batch 500\n",
      "0 [500/47392] G Loss [L1/GAdv/PAdv] [0.2073/0.0217/0.0164] Loss D (real/fake/fake4x4) [0.0220/0.0216/0.1197]\n",
      "saving images for batch 600\n",
      "0 [600/47392] G Loss [L1/GAdv/PAdv] [0.1891/0.0234/0.0165] Loss D (real/fake/fake4x4) [0.0346/0.0142/0.1058]\n",
      "saving images for batch 700\n",
      "0 [700/47392] G Loss [L1/GAdv/PAdv] [0.2169/0.0285/0.0155] Loss D (real/fake/fake4x4) [0.0269/0.0104/0.1188]\n",
      "saving images for batch 800\n",
      "0 [800/47392] G Loss [L1/GAdv/PAdv] [0.2181/0.0235/0.0159] Loss D (real/fake/fake4x4) [0.0190/0.0053/0.1063]\n",
      "saving images for batch 900\n",
      "0 [900/47392] G Loss [L1/GAdv/PAdv] [0.2112/0.0255/0.0158] Loss D (real/fake/fake4x4) [0.0091/0.0016/0.1023]\n",
      "saving images for batch 1000\n",
      "0 [1000/47392] G Loss [L1/GAdv/PAdv] [0.1981/0.0273/0.0140] Loss D (real/fake/fake4x4) [0.0196/0.0034/0.1513]\n",
      "saving images for batch 1100\n",
      "0 [1100/47392] G Loss [L1/GAdv/PAdv] [0.2087/0.0223/0.0137] Loss D (real/fake/fake4x4) [0.0212/0.0144/0.1530]\n",
      "saving images for batch 1200\n",
      "0 [1200/47392] G Loss [L1/GAdv/PAdv] [0.1859/0.0238/0.0145] Loss D (real/fake/fake4x4) [0.0151/0.0035/0.1192]\n",
      "saving images for batch 1300\n",
      "0 [1300/47392] G Loss [L1/GAdv/PAdv] [0.1930/0.0216/0.0141] Loss D (real/fake/fake4x4) [0.0174/0.0124/0.1248]\n",
      "saving images for batch 1400\n",
      "0 [1400/47392] G Loss [L1/GAdv/PAdv] [0.1802/0.0253/0.0139] Loss D (real/fake/fake4x4) [0.0180/0.0051/0.1396]\n",
      "saving images for batch 1500\n",
      "0 [1500/47392] G Loss [L1/GAdv/PAdv] [0.1934/0.0215/0.0140] Loss D (real/fake/fake4x4) [0.0474/0.0340/0.1353]\n",
      "saving images for batch 1600\n",
      "0 [1600/47392] G Loss [L1/GAdv/PAdv] [0.1782/0.0257/0.0120] Loss D (real/fake/fake4x4) [0.0056/0.0072/0.1649]\n",
      "saving images for batch 1700\n",
      "0 [1700/47392] G Loss [L1/GAdv/PAdv] [0.1749/0.0325/0.0116] Loss D (real/fake/fake4x4) [0.0617/0.0442/0.1893]\n",
      "saving images for batch 1800\n",
      "0 [1800/47392] G Loss [L1/GAdv/PAdv] [0.1677/0.0294/0.0126] Loss D (real/fake/fake4x4) [0.0367/0.0320/0.1589]\n",
      "saving images for batch 1900\n",
      "0 [1900/47392] G Loss [L1/GAdv/PAdv] [0.1649/0.0231/0.0114] Loss D (real/fake/fake4x4) [0.0240/0.0347/0.1758]\n",
      "saving images for batch 2000\n",
      "0 [2000/47392] G Loss [L1/GAdv/PAdv] [0.1610/0.0312/0.0117] Loss D (real/fake/fake4x4) [0.0484/0.0573/0.1580]\n",
      "saving images for batch 2100\n",
      "0 [2100/47392] G Loss [L1/GAdv/PAdv] [0.1626/0.0256/0.0110] Loss D (real/fake/fake4x4) [0.0133/0.0060/0.1742]\n",
      "saving images for batch 2200\n",
      "0 [2200/47392] G Loss [L1/GAdv/PAdv] [0.1663/0.0314/0.0112] Loss D (real/fake/fake4x4) [0.0219/0.0060/0.1721]\n",
      "saving images for batch 2300\n",
      "0 [2300/47392] G Loss [L1/GAdv/PAdv] [0.1554/0.0281/0.0110] Loss D (real/fake/fake4x4) [0.0103/0.0196/0.1609]\n",
      "saving images for batch 2400\n",
      "0 [2400/47392] G Loss [L1/GAdv/PAdv] [0.1623/0.0311/0.0105] Loss D (real/fake/fake4x4) [0.0486/0.0329/0.1879]\n",
      "saving images for batch 2500\n",
      "0 [2500/47392] G Loss [L1/GAdv/PAdv] [0.1497/0.0336/0.0106] Loss D (real/fake/fake4x4) [0.0700/0.0973/0.1803]\n",
      "saving images for batch 2600\n",
      "0 [2600/47392] G Loss [L1/GAdv/PAdv] [0.1479/0.0314/0.0104] Loss D (real/fake/fake4x4) [0.0249/0.0344/0.1799]\n",
      "saving images for batch 2700\n",
      "0 [2700/47392] G Loss [L1/GAdv/PAdv] [0.1548/0.0225/0.0100] Loss D (real/fake/fake4x4) [0.0279/0.0104/0.1791]\n",
      "saving images for batch 2800\n",
      "0 [2800/47392] G Loss [L1/GAdv/PAdv] [0.1484/0.0256/0.0095] Loss D (real/fake/fake4x4) [0.0399/0.0325/0.1983]\n",
      "saving images for batch 2900\n",
      "0 [2900/47392] G Loss [L1/GAdv/PAdv] [0.1511/0.0336/0.0093] Loss D (real/fake/fake4x4) [0.0520/0.0529/0.2014]\n",
      "saving images for batch 3000\n",
      "0 [3000/47392] G Loss [L1/GAdv/PAdv] [0.1532/0.0255/0.0096] Loss D (real/fake/fake4x4) [0.0049/0.0072/0.1888]\n",
      "saving images for batch 3100\n",
      "0 [3100/47392] G Loss [L1/GAdv/PAdv] [0.1512/0.0263/0.0091] Loss D (real/fake/fake4x4) [0.0210/0.0199/0.1980]\n",
      "saving images for batch 3200\n",
      "0 [3200/47392] G Loss [L1/GAdv/PAdv] [0.1465/0.0280/0.0091] Loss D (real/fake/fake4x4) [0.0343/0.0501/0.1996]\n",
      "saving images for batch 3300\n",
      "0 [3300/47392] G Loss [L1/GAdv/PAdv] [0.1389/0.0282/0.0088] Loss D (real/fake/fake4x4) [0.0268/0.0293/0.2037]\n",
      "saving images for batch 3400\n",
      "0 [3400/47392] G Loss [L1/GAdv/PAdv] [0.1511/0.0240/0.0087] Loss D (real/fake/fake4x4) [0.0084/0.0093/0.2456]\n",
      "saving images for batch 3500\n",
      "0 [3500/47392] G Loss [L1/GAdv/PAdv] [0.1331/0.0322/0.0090] Loss D (real/fake/fake4x4) [0.0203/0.0103/0.2102]\n",
      "saving images for batch 3600\n",
      "0 [3600/47392] G Loss [L1/GAdv/PAdv] [0.1396/0.0238/0.0087] Loss D (real/fake/fake4x4) [0.0271/0.0281/0.2043]\n",
      "saving images for batch 3700\n",
      "0 [3700/47392] G Loss [L1/GAdv/PAdv] [0.1506/0.0279/0.0083] Loss D (real/fake/fake4x4) [0.0184/0.0079/0.2123]\n",
      "saving images for batch 3800\n",
      "0 [3800/47392] G Loss [L1/GAdv/PAdv] [0.1354/0.0216/0.0085] Loss D (real/fake/fake4x4) [0.0485/0.0283/0.2137]\n",
      "saving images for batch 3900\n",
      "0 [3900/47392] G Loss [L1/GAdv/PAdv] [0.1444/0.0232/0.0083] Loss D (real/fake/fake4x4) [0.0063/0.0085/0.2245]\n",
      "saving images for batch 4000\n",
      "0 [4000/47392] G Loss [L1/GAdv/PAdv] [0.1228/0.0260/0.0084] Loss D (real/fake/fake4x4) [0.0072/0.0106/0.1991]\n",
      "saving images for batch 4100\n",
      "0 [4100/47392] G Loss [L1/GAdv/PAdv] [0.1344/0.0265/0.0081] Loss D (real/fake/fake4x4) [0.0128/0.0055/0.2093]\n",
      "saving images for batch 4200\n",
      "0 [4200/47392] G Loss [L1/GAdv/PAdv] [0.1379/0.0222/0.0079] Loss D (real/fake/fake4x4) [0.0232/0.0097/0.2323]\n",
      "saving images for batch 4300\n",
      "0 [4300/47392] G Loss [L1/GAdv/PAdv] [0.1459/0.0260/0.0079] Loss D (real/fake/fake4x4) [0.0166/0.0106/0.2191]\n",
      "saving images for batch 4400\n",
      "0 [4400/47392] G Loss [L1/GAdv/PAdv] [0.1469/0.0262/0.0078] Loss D (real/fake/fake4x4) [0.0408/0.0165/0.2243]\n",
      "saving images for batch 4500\n",
      "0 [4500/47392] G Loss [L1/GAdv/PAdv] [0.1260/0.0315/0.0078] Loss D (real/fake/fake4x4) [0.0595/0.0369/0.2190]\n",
      "saving images for batch 4600\n",
      "0 [4600/47392] G Loss [L1/GAdv/PAdv] [0.1326/0.0238/0.0078] Loss D (real/fake/fake4x4) [0.0224/0.0256/0.2147]\n",
      "saving images for batch 4700\n",
      "0 [4700/47392] G Loss [L1/GAdv/PAdv] [0.1261/0.0245/0.0077] Loss D (real/fake/fake4x4) [0.0269/0.0134/0.2225]\n",
      "saving images for batch 4800\n",
      "0 [4800/47392] G Loss [L1/GAdv/PAdv] [0.1470/0.0483/0.0074] Loss D (real/fake/fake4x4) [0.1623/0.1611/0.2395]\n",
      "saving images for batch 4900\n",
      "0 [4900/47392] G Loss [L1/GAdv/PAdv] [0.1288/0.0246/0.0075] Loss D (real/fake/fake4x4) [0.0041/0.0021/0.2218]\n",
      "saving images for batch 5000\n",
      "0 [5000/47392] G Loss [L1/GAdv/PAdv] [0.1405/0.0230/0.0074] Loss D (real/fake/fake4x4) [0.0073/0.0108/0.2229]\n",
      "saving images for batch 5100\n",
      "0 [5100/47392] G Loss [L1/GAdv/PAdv] [0.1251/0.0205/0.0073] Loss D (real/fake/fake4x4) [0.0103/0.0119/0.2286]\n",
      "saving images for batch 5200\n",
      "0 [5200/47392] G Loss [L1/GAdv/PAdv] [0.1299/0.0284/0.0073] Loss D (real/fake/fake4x4) [0.0160/0.0168/0.2409]\n",
      "saving images for batch 5300\n",
      "0 [5300/47392] G Loss [L1/GAdv/PAdv] [0.1364/0.0285/0.0073] Loss D (real/fake/fake4x4) [0.0366/0.0381/0.2295]\n",
      "saving images for batch 5400\n",
      "0 [5400/47392] G Loss [L1/GAdv/PAdv] [0.1328/0.0268/0.0072] Loss D (real/fake/fake4x4) [0.0216/0.0106/0.2279]\n"
     ]
    }
   ],
   "source": [
    "run_trainer2(dataloader, G2, D2, D2_4x4, opt)"
   ]
  },
  {
   "cell_type": "code",
   "execution_count": null,
   "metadata": {},
   "outputs": [],
   "source": []
  },
  {
   "cell_type": "code",
   "execution_count": null,
   "metadata": {},
   "outputs": [],
   "source": []
  },
  {
   "cell_type": "code",
   "execution_count": null,
   "metadata": {},
   "outputs": [],
   "source": []
  }
 ],
 "metadata": {
  "kernelspec": {
   "display_name": "Python 3",
   "language": "python",
   "name": "python3"
  },
  "language_info": {
   "codemirror_mode": {
    "name": "ipython",
    "version": 3
   },
   "file_extension": ".py",
   "mimetype": "text/x-python",
   "name": "python",
   "nbconvert_exporter": "python",
   "pygments_lexer": "ipython3",
   "version": "3.7.0"
  }
 },
 "nbformat": 4,
 "nbformat_minor": 2
}
