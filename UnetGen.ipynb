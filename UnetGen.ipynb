{
 "cells": [
  {
   "cell_type": "code",
   "execution_count": 1,
   "metadata": {},
   "outputs": [],
   "source": [
    "import numpy\n",
    "import torch\n",
    "import torch.utils.data\n",
    "import torchvision.transforms as transforms\n",
    "import torchvision.datasets as dset\n",
    "from torch.utils.data import Dataset"
   ]
  },
  {
   "cell_type": "code",
   "execution_count": 2,
   "metadata": {},
   "outputs": [],
   "source": [
    "%load_ext autoreload\n",
    "%autoreload 2\n"
   ]
  },
  {
   "cell_type": "code",
   "execution_count": 3,
   "metadata": {},
   "outputs": [
    {
     "data": {
      "text/plain": [
       "'/home/pytorch/projects/SR_regular_GAN'"
      ]
     },
     "execution_count": 3,
     "metadata": {},
     "output_type": "execute_result"
    }
   ],
   "source": [
    "pwd"
   ]
  },
  {
   "cell_type": "code",
   "execution_count": 4,
   "metadata": {},
   "outputs": [],
   "source": [
    "class Params:\n",
    "    def __init__(self):\n",
    "        self.batchSize = 64\n",
    "        self.Stage1imageSize = 64\n",
    "        self.Stage2imageSize = 64\n",
    "        self.LAMBDA = 10\n",
    "        self.lr= 0.0002\n",
    "        self.nc = 3\n",
    "        self.nz = 100\n",
    "        self.ngf = 64\n",
    "        self.ndf = 64\n",
    "        #for unet \n",
    "        self.nc_out = 3\n",
    "        self.num_downsample = 4 \n",
    "        self.dataroot = '/home/pytorch/projects/lsun'\n",
    "        self.workers = 1\n",
    "        self.restart = ''\n",
    "        self.cuda = True\n",
    "        self.beta1 = 0.5\n",
    "opt = Params()"
   ]
  },
  {
   "cell_type": "code",
   "execution_count": 5,
   "metadata": {},
   "outputs": [],
   "source": [
    "#Image superresolution [64x64->128x128]\n",
    "#We would like to do supervised training so as to produce 128x128 images from 64x64 \n",
    "#Together with this, we add adversarial terms. This is a rather roundabout way of reimplementing pix2pix maybe"
   ]
  },
  {
   "cell_type": "code",
   "execution_count": 6,
   "metadata": {},
   "outputs": [],
   "source": [
    "#Pull out things from https://github.com/pytorch/vision/tree/master/torchvision/datasets to create \n",
    "#a new dataset class\n",
    "#We want a dataloader that can emit both 64x64 and 128x128 data at the same time with 'enumerate'\n",
    "#Then we make the generator produce 128x128 taking in 64x64 as input which we then train"
   ]
  },
  {
   "cell_type": "code",
   "execution_count": 7,
   "metadata": {},
   "outputs": [],
   "source": [
    "def make_dataset(dir):\n",
    "    import os\n",
    "    images = []\n",
    "    d = os.path.expanduser(dir)\n",
    "    \n",
    "    if not os.path.exists(dir):\n",
    "        print('path does not exist')\n",
    "\n",
    "    for root, _, fnames in sorted(os.walk(d)):\n",
    "        for fname in sorted(fnames):\n",
    "            path = os.path.join(root, fname)\n",
    "            images.append(path)\n",
    "    return images"
   ]
  },
  {
   "cell_type": "code",
   "execution_count": null,
   "metadata": {},
   "outputs": [],
   "source": []
  },
  {
   "cell_type": "code",
   "execution_count": 8,
   "metadata": {},
   "outputs": [],
   "source": [
    "def pil_loader(path):\n",
    "    from PIL import Image\n",
    "    # open path as file to avoid ResourceWarning (https://github.com/python-pillow/Pillow/issues/835)\n",
    "    with open(path, 'rb') as f:\n",
    "        img = Image.open(f)\n",
    "        return img.convert('RGB')"
   ]
  },
  {
   "cell_type": "code",
   "execution_count": 9,
   "metadata": {},
   "outputs": [],
   "source": [
    "class ImageFolder(Dataset):\n",
    "    \"\"\"A generic data loader where the images are arranged in this way: ::\n",
    "        root/dog/xxx.png\n",
    "        root/dog/xxy.png\n",
    "        root/dog/xxz.png\n",
    "        root/cat/123.png\n",
    "        root/cat/nsdf3.png\n",
    "        root/cat/asd932_.png\n",
    "    Args:\n",
    "        root (string): Root directory path.\n",
    "        transform (callable, optional): A function/transform that  takes in an PIL image\n",
    "            and returns a transformed version. E.g, ``transforms.RandomCrop``\n",
    "        target_transform (callable, optional): A function/transform that takes in the\n",
    "            target and transforms it.\n",
    "        loader (callable, optional): A function to load an image given its path.\n",
    "        is_valid_file (callable, optional): A function that takes path of an Image file\n",
    "            and check if the file is a valid_file (used to check of corrupt files)\n",
    "     Attributes:\n",
    "        classes (list): List of the class names.\n",
    "        class_to_idx (dict): Dict with items (class_name, class_index).\n",
    "        imgs (list): List of (image path, class_index) tuples\n",
    "    \"\"\"\n",
    "\n",
    "    def __init__(self, root, transformA=None, transformB=None):\n",
    "        \n",
    "        self.samples = make_dataset(opt.dataroot)\n",
    "        self.imgs = self.samples\n",
    "        self.transformA = transformA\n",
    "        self.transformB = transformB\n",
    "        \n",
    "    def __getitem__(self, index):\n",
    "        \"\"\"\n",
    "        Args:\n",
    "        index (int): Index\n",
    "        Returns:\n",
    "        tuple: (sample, target) where target is class_index of the target class.\n",
    "        \"\"\"\n",
    "        path = self.samples[index]\n",
    "        sample = pil_loader(path)\n",
    "        \n",
    "        if self.transformA is not None:\n",
    "            sampleA = self.transformA(sample)\n",
    "            \n",
    "        if self.transformB is not None:\n",
    "            sampleB = self.transformB(sample)\n",
    "            \n",
    "        return sampleA, sampleB\n",
    "\n",
    "    def __len__(self):\n",
    "        return len(self.samples)\n"
   ]
  },
  {
   "cell_type": "code",
   "execution_count": 10,
   "metadata": {},
   "outputs": [],
   "source": [
    "transformA = transforms.Compose([\n",
    "                                transforms.Resize(opt.Stage1imageSize),\n",
    "                                transforms.CenterCrop(opt.Stage1imageSize),\n",
    "                                transforms.ToTensor(),\n",
    "                                transforms.Normalize((0.5, 0.5, 0.5), (0.5, 0.5, 0.5)),])\n",
    "\n",
    "transformB = transforms.Compose([\n",
    "                                transforms.Resize(opt.Stage2imageSize),\n",
    "                                transforms.CenterCrop(opt.Stage2imageSize),\n",
    "                                transforms.ToTensor(),\n",
    "                                transforms.Normalize((0.5, 0.5, 0.5), (0.5, 0.5, 0.5)),])"
   ]
  },
  {
   "cell_type": "code",
   "execution_count": 11,
   "metadata": {},
   "outputs": [],
   "source": [
    "dataset = ImageFolder(root=opt.dataroot,\n",
    "                                transformA=transformA,transformB=transformB)\n",
    "\n",
    "#Now we create a dataloader that dumps out both 64x64 and 128x128 when called with 'enumerate'\n",
    "dataloader = torch.utils.data.DataLoader(dataset, batch_size=opt.batchSize,\n",
    "                                         shuffle=True, num_workers=int(opt.workers))"
   ]
  },
  {
   "cell_type": "code",
   "execution_count": 12,
   "metadata": {},
   "outputs": [],
   "source": [
    "#dataloaderStage1, dataloaderStage2 = get_data_loaders(opt)"
   ]
  },
  {
   "cell_type": "code",
   "execution_count": null,
   "metadata": {},
   "outputs": [],
   "source": []
  },
  {
   "cell_type": "code",
   "execution_count": 13,
   "metadata": {},
   "outputs": [],
   "source": [
    "%aimport model\n",
    "#from model import G_Stage1\n",
    "#from model import D_Stage1\n",
    "#from model import G_Stage2\n",
    "from model import D_Stage2\n",
    "from model import get_unet_generator\n",
    "#from model import UnetGenerator\n",
    "#from model import D_Stage2_4x4"
   ]
  },
  {
   "cell_type": "code",
   "execution_count": 14,
   "metadata": {},
   "outputs": [
    {
     "data": {
      "text/plain": [
       "3"
      ]
     },
     "execution_count": 14,
     "metadata": {},
     "output_type": "execute_result"
    }
   ],
   "source": [
    "opt.nc"
   ]
  },
  {
   "cell_type": "code",
   "execution_count": 15,
   "metadata": {},
   "outputs": [],
   "source": [
    "D2 = D_Stage2(opt.nc,opt.ndf)\n",
    "G2 = get_unet_generator(opt.nc, opt.nc_out, opt.num_downsample)\n",
    "\n",
    "if opt.cuda:\n",
    "    D2 = D2.cuda()\n",
    "    G2 = G2.cuda()"
   ]
  },
  {
   "cell_type": "code",
   "execution_count": 16,
   "metadata": {},
   "outputs": [
    {
     "name": "stdout",
     "output_type": "stream",
     "text": [
      "UnetGenerator(\n",
      "  (model): UnetSkipConnectionBlock(\n",
      "    (model): Sequential(\n",
      "      (0): Conv2d(3, 64, kernel_size=(4, 4), stride=(2, 2), padding=(1, 1), bias=False)\n",
      "      (1): UnetSkipConnectionBlock(\n",
      "        (model): Sequential(\n",
      "          (0): LeakyReLU(negative_slope=0.2, inplace)\n",
      "          (1): Conv2d(64, 128, kernel_size=(4, 4), stride=(2, 2), padding=(1, 1), bias=False)\n",
      "          (2): BatchNorm2d(128, eps=1e-05, momentum=0.1, affine=True, track_running_stats=True)\n",
      "          (3): UnetSkipConnectionBlock(\n",
      "            (model): Sequential(\n",
      "              (0): LeakyReLU(negative_slope=0.2, inplace)\n",
      "              (1): Conv2d(128, 256, kernel_size=(4, 4), stride=(2, 2), padding=(1, 1), bias=False)\n",
      "              (2): BatchNorm2d(256, eps=1e-05, momentum=0.1, affine=True, track_running_stats=True)\n",
      "              (3): UnetSkipConnectionBlock(\n",
      "                (model): Sequential(\n",
      "                  (0): LeakyReLU(negative_slope=0.2, inplace)\n",
      "                  (1): Conv2d(256, 512, kernel_size=(4, 4), stride=(2, 2), padding=(1, 1), bias=False)\n",
      "                  (2): BatchNorm2d(512, eps=1e-05, momentum=0.1, affine=True, track_running_stats=True)\n",
      "                  (3): UnetSkipConnectionBlock(\n",
      "                    (model): Sequential(\n",
      "                      (0): LeakyReLU(negative_slope=0.2, inplace)\n",
      "                      (1): Conv2d(512, 512, kernel_size=(4, 4), stride=(2, 2), padding=(1, 1), bias=False)\n",
      "                      (2): ReLU(inplace)\n",
      "                      (3): ConvTranspose2d(512, 512, kernel_size=(4, 4), stride=(2, 2), padding=(1, 1), bias=False)\n",
      "                      (4): BatchNorm2d(512, eps=1e-05, momentum=0.1, affine=True, track_running_stats=True)\n",
      "                    )\n",
      "                  )\n",
      "                  (4): ReLU(inplace)\n",
      "                  (5): ConvTranspose2d(1024, 256, kernel_size=(4, 4), stride=(2, 2), padding=(1, 1), bias=False)\n",
      "                  (6): BatchNorm2d(256, eps=1e-05, momentum=0.1, affine=True, track_running_stats=True)\n",
      "                )\n",
      "              )\n",
      "              (4): ReLU(inplace)\n",
      "              (5): ConvTranspose2d(512, 128, kernel_size=(4, 4), stride=(2, 2), padding=(1, 1), bias=False)\n",
      "              (6): BatchNorm2d(128, eps=1e-05, momentum=0.1, affine=True, track_running_stats=True)\n",
      "            )\n",
      "          )\n",
      "          (4): ReLU(inplace)\n",
      "          (5): ConvTranspose2d(256, 64, kernel_size=(4, 4), stride=(2, 2), padding=(1, 1), bias=False)\n",
      "          (6): BatchNorm2d(64, eps=1e-05, momentum=0.1, affine=True, track_running_stats=True)\n",
      "        )\n",
      "      )\n",
      "      (2): ReLU(inplace)\n",
      "      (3): ConvTranspose2d(128, 3, kernel_size=(4, 4), stride=(2, 2), padding=(1, 1))\n",
      "      (4): Tanh()\n",
      "    )\n",
      "  )\n",
      ")\n"
     ]
    }
   ],
   "source": [
    "print(G2)"
   ]
  },
  {
   "cell_type": "code",
   "execution_count": 25,
   "metadata": {},
   "outputs": [],
   "source": [
    "%aimport train2\n",
    "from train2 import run_trainer2"
   ]
  },
  {
   "cell_type": "code",
   "execution_count": 26,
   "metadata": {
    "scrolled": true
   },
   "outputs": [
    {
     "name": "stdout",
     "output_type": "stream",
     "text": [
      "saving images for batch 0\n",
      "0 [0/47392] G Loss [L1/GAdv] [0.4266/0.0222] Loss D (real/fake) [0.2195/0.2528]\n",
      "saving images for batch 100\n",
      "0 [100/47392] G Loss [L1/GAdv] [0.0887/0.0011] Loss D (real/fake) [0.2319/0.2038]\n",
      "saving images for batch 200\n",
      "0 [200/47392] G Loss [L1/GAdv] [0.0736/0.0011] Loss D (real/fake) [0.1736/0.2192]\n",
      "saving images for batch 300\n",
      "0 [300/47392] G Loss [L1/GAdv] [0.0672/0.0007] Loss D (real/fake) [0.2626/0.1663]\n",
      "saving images for batch 400\n",
      "0 [400/47392] G Loss [L1/GAdv] [0.0595/0.0005] Loss D (real/fake) [0.3125/0.1313]\n",
      "saving images for batch 500\n",
      "0 [500/47392] G Loss [L1/GAdv] [0.0565/0.0011] Loss D (real/fake) [0.1244/0.3023]\n",
      "saving images for batch 600\n",
      "0 [600/47392] G Loss [L1/GAdv] [0.0549/0.0014] Loss D (real/fake) [0.0798/0.4299]\n",
      "saving images for batch 700\n",
      "0 [700/47392] G Loss [L1/GAdv] [0.0501/0.0015] Loss D (real/fake) [0.1501/0.2797]\n",
      "saving images for batch 800\n",
      "0 [800/47392] G Loss [L1/GAdv] [0.0440/0.0006] Loss D (real/fake) [0.1667/0.3038]\n",
      "saving images for batch 900\n",
      "0 [900/47392] G Loss [L1/GAdv] [0.0399/0.0008] Loss D (real/fake) [0.1779/0.2704]\n",
      "saving images for batch 1000\n",
      "0 [1000/47392] G Loss [L1/GAdv] [0.0374/0.0006] Loss D (real/fake) [0.2132/0.2399]\n",
      "saving images for batch 1100\n",
      "0 [1100/47392] G Loss [L1/GAdv] [0.0371/0.0006] Loss D (real/fake) [0.1975/0.2480]\n",
      "saving images for batch 1200\n",
      "0 [1200/47392] G Loss [L1/GAdv] [0.0345/0.0002] Loss D (real/fake) [0.3061/0.1596]\n",
      "saving images for batch 1300\n",
      "0 [1300/47392] G Loss [L1/GAdv] [0.0362/0.0003] Loss D (real/fake) [0.1963/0.2821]\n",
      "saving images for batch 1400\n",
      "0 [1400/47392] G Loss [L1/GAdv] [0.0326/0.0004] Loss D (real/fake) [0.2273/0.2557]\n",
      "saving images for batch 1500\n",
      "0 [1500/47392] G Loss [L1/GAdv] [0.0317/0.0004] Loss D (real/fake) [0.2104/0.2550]\n",
      "saving images for batch 1600\n",
      "0 [1600/47392] G Loss [L1/GAdv] [0.0319/0.0001] Loss D (real/fake) [0.2539/0.2096]\n",
      "saving images for batch 1700\n",
      "0 [1700/47392] G Loss [L1/GAdv] [0.0285/0.0003] Loss D (real/fake) [0.2331/0.2419]\n",
      "saving images for batch 1800\n",
      "0 [1800/47392] G Loss [L1/GAdv] [0.0260/0.0002] Loss D (real/fake) [0.2827/0.1917]\n",
      "saving images for batch 1900\n",
      "0 [1900/47392] G Loss [L1/GAdv] [0.0277/0.0002] Loss D (real/fake) [0.2075/0.2580]\n",
      "saving images for batch 2000\n",
      "0 [2000/47392] G Loss [L1/GAdv] [0.0265/0.0001] Loss D (real/fake) [0.1963/0.2846]\n",
      "saving images for batch 2100\n",
      "0 [2100/47392] G Loss [L1/GAdv] [0.0267/0.0001] Loss D (real/fake) [0.2298/0.2478]\n",
      "saving images for batch 2200\n",
      "0 [2200/47392] G Loss [L1/GAdv] [0.0232/0.0001] Loss D (real/fake) [0.2676/0.2092]\n",
      "saving images for batch 2300\n",
      "0 [2300/47392] G Loss [L1/GAdv] [0.0235/0.0001] Loss D (real/fake) [0.2573/0.2450]\n",
      "saving images for batch 2400\n",
      "0 [2400/47392] G Loss [L1/GAdv] [0.0263/0.0005] Loss D (real/fake) [0.2600/0.2085]\n",
      "saving images for batch 2500\n",
      "0 [2500/47392] G Loss [L1/GAdv] [0.0230/0.0001] Loss D (real/fake) [0.1801/0.3158]\n",
      "saving images for batch 2600\n",
      "0 [2600/47392] G Loss [L1/GAdv] [0.0253/0.0002] Loss D (real/fake) [0.2344/0.2223]\n",
      "saving images for batch 2700\n",
      "0 [2700/47392] G Loss [L1/GAdv] [0.0237/0.0001] Loss D (real/fake) [0.2795/0.2062]\n",
      "saving images for batch 2800\n",
      "0 [2800/47392] G Loss [L1/GAdv] [0.0239/0.0002] Loss D (real/fake) [0.2045/0.2772]\n",
      "saving images for batch 2900\n",
      "0 [2900/47392] G Loss [L1/GAdv] [0.0237/0.0003] Loss D (real/fake) [0.2592/0.2203]\n",
      "saving images for batch 3000\n",
      "0 [3000/47392] G Loss [L1/GAdv] [0.0225/0.0001] Loss D (real/fake) [0.2232/0.2667]\n",
      "saving images for batch 3100\n",
      "0 [3100/47392] G Loss [L1/GAdv] [0.0217/0.0003] Loss D (real/fake) [0.2485/0.2130]\n",
      "saving images for batch 3200\n",
      "0 [3200/47392] G Loss [L1/GAdv] [0.0234/0.0002] Loss D (real/fake) [0.2636/0.2006]\n",
      "saving images for batch 3300\n",
      "0 [3300/47392] G Loss [L1/GAdv] [0.0229/0.0002] Loss D (real/fake) [0.2687/0.2150]\n",
      "saving images for batch 3400\n",
      "0 [3400/47392] G Loss [L1/GAdv] [0.0219/0.0001] Loss D (real/fake) [0.2349/0.2431]\n",
      "saving images for batch 3500\n",
      "0 [3500/47392] G Loss [L1/GAdv] [0.0214/0.0003] Loss D (real/fake) [0.2110/0.2672]\n",
      "saving images for batch 3600\n",
      "0 [3600/47392] G Loss [L1/GAdv] [0.0212/0.0001] Loss D (real/fake) [0.2606/0.2154]\n",
      "saving images for batch 3700\n",
      "0 [3700/47392] G Loss [L1/GAdv] [0.0226/0.0001] Loss D (real/fake) [0.2423/0.2234]\n",
      "saving images for batch 3800\n",
      "0 [3800/47392] G Loss [L1/GAdv] [0.0217/0.0002] Loss D (real/fake) [0.2161/0.2534]\n",
      "saving images for batch 3900\n",
      "0 [3900/47392] G Loss [L1/GAdv] [0.0220/0.0003] Loss D (real/fake) [0.1947/0.2924]\n",
      "saving images for batch 4000\n",
      "0 [4000/47392] G Loss [L1/GAdv] [0.0206/0.0002] Loss D (real/fake) [0.2598/0.2199]\n",
      "saving images for batch 4100\n",
      "0 [4100/47392] G Loss [L1/GAdv] [0.0209/0.0001] Loss D (real/fake) [0.2574/0.2163]\n",
      "saving images for batch 4200\n",
      "0 [4200/47392] G Loss [L1/GAdv] [0.0211/0.0001] Loss D (real/fake) [0.2379/0.2370]\n",
      "saving images for batch 4300\n",
      "0 [4300/47392] G Loss [L1/GAdv] [0.0205/0.0000] Loss D (real/fake) [0.2767/0.2125]\n",
      "saving images for batch 4400\n",
      "0 [4400/47392] G Loss [L1/GAdv] [0.0183/0.0001] Loss D (real/fake) [0.1871/0.3037]\n",
      "saving images for batch 4500\n",
      "0 [4500/47392] G Loss [L1/GAdv] [0.0189/0.0001] Loss D (real/fake) [0.2130/0.2590]\n",
      "saving images for batch 4600\n",
      "0 [4600/47392] G Loss [L1/GAdv] [0.0185/0.0001] Loss D (real/fake) [0.2181/0.2518]\n",
      "saving images for batch 4700\n",
      "0 [4700/47392] G Loss [L1/GAdv] [0.0214/0.0001] Loss D (real/fake) [0.2225/0.2559]\n",
      "saving images for batch 4800\n",
      "0 [4800/47392] G Loss [L1/GAdv] [0.0200/0.0002] Loss D (real/fake) [0.2053/0.2691]\n",
      "saving images for batch 4900\n",
      "0 [4900/47392] G Loss [L1/GAdv] [0.0199/0.0000] Loss D (real/fake) [0.2773/0.2050]\n",
      "saving images for batch 5000\n",
      "0 [5000/47392] G Loss [L1/GAdv] [0.0189/0.0000] Loss D (real/fake) [0.2760/0.2024]\n",
      "saving images for batch 5100\n",
      "0 [5100/47392] G Loss [L1/GAdv] [0.0181/0.0001] Loss D (real/fake) [0.2151/0.2628]\n",
      "saving images for batch 5200\n",
      "0 [5200/47392] G Loss [L1/GAdv] [0.0191/0.0001] Loss D (real/fake) [0.1830/0.3032]\n",
      "saving images for batch 5300\n",
      "0 [5300/47392] G Loss [L1/GAdv] [0.0167/0.0001] Loss D (real/fake) [0.2526/0.2272]\n",
      "saving images for batch 5400\n",
      "0 [5400/47392] G Loss [L1/GAdv] [0.0174/0.0001] Loss D (real/fake) [0.2049/0.2794]\n",
      "saving images for batch 5500\n",
      "0 [5500/47392] G Loss [L1/GAdv] [0.0210/0.0001] Loss D (real/fake) [0.2659/0.2061]\n",
      "saving images for batch 5600\n",
      "0 [5600/47392] G Loss [L1/GAdv] [0.0174/0.0001] Loss D (real/fake) [0.2239/0.2535]\n",
      "saving images for batch 5700\n",
      "0 [5700/47392] G Loss [L1/GAdv] [0.0201/0.0004] Loss D (real/fake) [0.1621/0.3240]\n",
      "saving images for batch 5800\n",
      "0 [5800/47392] G Loss [L1/GAdv] [0.0165/0.0000] Loss D (real/fake) [0.3039/0.1880]\n",
      "saving images for batch 5900\n",
      "0 [5900/47392] G Loss [L1/GAdv] [0.0167/0.0001] Loss D (real/fake) [0.2381/0.2359]\n",
      "saving images for batch 6000\n",
      "0 [6000/47392] G Loss [L1/GAdv] [0.0167/0.0000] Loss D (real/fake) [0.2214/0.2567]\n",
      "saving images for batch 6100\n",
      "0 [6100/47392] G Loss [L1/GAdv] [0.0177/0.0001] Loss D (real/fake) [0.2784/0.2081]\n",
      "saving images for batch 6200\n",
      "0 [6200/47392] G Loss [L1/GAdv] [0.0183/0.0001] Loss D (real/fake) [0.2160/0.2508]\n",
      "saving images for batch 6300\n",
      "0 [6300/47392] G Loss [L1/GAdv] [0.0187/0.0003] Loss D (real/fake) [0.1507/0.3319]\n",
      "saving images for batch 6400\n",
      "0 [6400/47392] G Loss [L1/GAdv] [0.0153/0.0001] Loss D (real/fake) [0.2412/0.2346]\n",
      "saving images for batch 6500\n",
      "0 [6500/47392] G Loss [L1/GAdv] [0.0156/0.0000] Loss D (real/fake) [0.2948/0.1955]\n",
      "saving images for batch 6600\n",
      "0 [6600/47392] G Loss [L1/GAdv] [0.0157/0.0001] Loss D (real/fake) [0.2329/0.2420]\n",
      "saving images for batch 6700\n",
      "0 [6700/47392] G Loss [L1/GAdv] [0.0164/0.0001] Loss D (real/fake) [0.1967/0.2750]\n",
      "saving images for batch 6800\n",
      "0 [6800/47392] G Loss [L1/GAdv] [0.0162/0.0003] Loss D (real/fake) [0.2801/0.1849]\n",
      "saving images for batch 6900\n",
      "0 [6900/47392] G Loss [L1/GAdv] [0.0162/0.0001] Loss D (real/fake) [0.2888/0.1934]\n",
      "saving images for batch 7000\n",
      "0 [7000/47392] G Loss [L1/GAdv] [0.0161/0.0000] Loss D (real/fake) [0.2342/0.2519]\n",
      "saving images for batch 7100\n",
      "0 [7100/47392] G Loss [L1/GAdv] [0.0148/0.0001] Loss D (real/fake) [0.2471/0.2143]\n",
      "saving images for batch 7200\n",
      "0 [7200/47392] G Loss [L1/GAdv] [0.0161/0.0000] Loss D (real/fake) [0.2718/0.2025]\n",
      "saving images for batch 7300\n",
      "0 [7300/47392] G Loss [L1/GAdv] [0.0154/0.0001] Loss D (real/fake) [0.1305/0.3759]\n"
     ]
    },
    {
     "name": "stdout",
     "output_type": "stream",
     "text": [
      "saving images for batch 7400\n",
      "0 [7400/47392] G Loss [L1/GAdv] [0.0155/0.0001] Loss D (real/fake) [0.2040/0.2664]\n",
      "saving images for batch 7500\n",
      "0 [7500/47392] G Loss [L1/GAdv] [0.0150/0.0001] Loss D (real/fake) [0.2077/0.2504]\n",
      "saving images for batch 7600\n",
      "0 [7600/47392] G Loss [L1/GAdv] [0.0151/0.0001] Loss D (real/fake) [0.2232/0.2402]\n",
      "saving images for batch 7700\n",
      "0 [7700/47392] G Loss [L1/GAdv] [0.0148/0.0001] Loss D (real/fake) [0.2150/0.2613]\n",
      "saving images for batch 7800\n",
      "0 [7800/47392] G Loss [L1/GAdv] [0.0155/0.0002] Loss D (real/fake) [0.2439/0.1981]\n",
      "saving images for batch 7900\n",
      "0 [7900/47392] G Loss [L1/GAdv] [0.0161/0.0001] Loss D (real/fake) [0.2894/0.1858]\n",
      "saving images for batch 8000\n",
      "0 [8000/47392] G Loss [L1/GAdv] [0.0148/0.0001] Loss D (real/fake) [0.2145/0.2404]\n",
      "saving images for batch 8100\n",
      "0 [8100/47392] G Loss [L1/GAdv] [0.0159/0.0001] Loss D (real/fake) [0.3311/0.1501]\n",
      "saving images for batch 8200\n",
      "0 [8200/47392] G Loss [L1/GAdv] [0.0145/0.0001] Loss D (real/fake) [0.1574/0.3684]\n",
      "saving images for batch 8300\n",
      "0 [8300/47392] G Loss [L1/GAdv] [0.0164/0.0001] Loss D (real/fake) [0.2001/0.2847]\n",
      "saving images for batch 8400\n",
      "0 [8400/47392] G Loss [L1/GAdv] [0.0161/0.0002] Loss D (real/fake) [0.2669/0.1758]\n",
      "saving images for batch 8500\n",
      "0 [8500/47392] G Loss [L1/GAdv] [0.0140/0.0001] Loss D (real/fake) [0.2070/0.2690]\n",
      "saving images for batch 8600\n",
      "0 [8600/47392] G Loss [L1/GAdv] [0.0142/0.0002] Loss D (real/fake) [0.2675/0.1735]\n",
      "saving images for batch 8700\n",
      "0 [8700/47392] G Loss [L1/GAdv] [0.0145/0.0004] Loss D (real/fake) [0.2629/0.2133]\n"
     ]
    },
    {
     "name": "stderr",
     "output_type": "stream",
     "text": [
      "Process Process-1:\n",
      "Traceback (most recent call last):\n",
      "  File \"/home/pytorch/anaconda3/envs/pytorch37/lib/python3.7/multiprocessing/process.py\", line 297, in _bootstrap\n",
      "    self.run()\n",
      "  File \"/home/pytorch/anaconda3/envs/pytorch37/lib/python3.7/multiprocessing/process.py\", line 99, in run\n",
      "    self._target(*self._args, **self._kwargs)\n",
      "  File \"/home/pytorch/anaconda3/envs/pytorch37/lib/python3.7/site-packages/torch/utils/data/dataloader.py\", line 96, in _worker_loop\n",
      "    r = index_queue.get(timeout=MANAGER_STATUS_CHECK_INTERVAL)\n",
      "  File \"/home/pytorch/anaconda3/envs/pytorch37/lib/python3.7/multiprocessing/queues.py\", line 104, in get\n",
      "    if not self._poll(timeout):\n",
      "  File \"/home/pytorch/anaconda3/envs/pytorch37/lib/python3.7/multiprocessing/connection.py\", line 257, in poll\n",
      "    return self._poll(timeout)\n",
      "  File \"/home/pytorch/anaconda3/envs/pytorch37/lib/python3.7/multiprocessing/connection.py\", line 414, in _poll\n",
      "    r = wait([self], timeout)\n",
      "  File \"/home/pytorch/anaconda3/envs/pytorch37/lib/python3.7/multiprocessing/connection.py\", line 920, in wait\n",
      "    ready = selector.select(timeout)\n",
      "  File \"/home/pytorch/anaconda3/envs/pytorch37/lib/python3.7/selectors.py\", line 415, in select\n",
      "    fd_event_list = self._selector.poll(timeout)\n",
      "KeyboardInterrupt\n"
     ]
    },
    {
     "ename": "KeyboardInterrupt",
     "evalue": "",
     "output_type": "error",
     "traceback": [
      "\u001b[0;31m---------------------------------------------------------------------------\u001b[0m",
      "\u001b[0;31mKeyboardInterrupt\u001b[0m                         Traceback (most recent call last)",
      "\u001b[0;32m<ipython-input-26-a6a4ede825f9>\u001b[0m in \u001b[0;36m<module>\u001b[0;34m\u001b[0m\n\u001b[0;32m----> 1\u001b[0;31m \u001b[0mrun_trainer2\u001b[0m\u001b[0;34m(\u001b[0m\u001b[0mdataloader\u001b[0m\u001b[0;34m,\u001b[0m \u001b[0mG2\u001b[0m\u001b[0;34m,\u001b[0m \u001b[0mD2\u001b[0m\u001b[0;34m,\u001b[0m \u001b[0mopt\u001b[0m\u001b[0;34m)\u001b[0m\u001b[0;34m\u001b[0m\u001b[0m\n\u001b[0m",
      "\u001b[0;32m~/projects/SR_regular_GAN/train2.py\u001b[0m in \u001b[0;36mrun_trainer2\u001b[0;34m(train_loader, G2, D2, args)\u001b[0m\n\u001b[1;32m     31\u001b[0m \u001b[0;34m\u001b[0m\u001b[0m\n\u001b[1;32m     32\u001b[0m     run_stage2_trainer(train_loader, G2, D2, optimizer_G2, optimizer_D2,\n\u001b[0;32m---> 33\u001b[0;31m                        args)\n\u001b[0m",
      "\u001b[0;32m~/projects/SR_regular_GAN/train_stage2.py\u001b[0m in \u001b[0;36mrun_stage2_trainer\u001b[0;34m(train_loader, G2, D2, optimizer_G2, optimizer_D2, args)\u001b[0m\n\u001b[1;32m    120\u001b[0m \u001b[0;34m\u001b[0m\u001b[0m\n\u001b[1;32m    121\u001b[0m             \u001b[0;31m#D2_loss_real = criterion_BCE(D2_real, label)\u001b[0m\u001b[0;34m\u001b[0m\u001b[0;34m\u001b[0m\u001b[0m\n\u001b[0;32m--> 122\u001b[0;31m             \u001b[0mD2_loss_real\u001b[0m \u001b[0;34m=\u001b[0m \u001b[0mcriterion_MSE\u001b[0m\u001b[0;34m(\u001b[0m\u001b[0mD2_real\u001b[0m\u001b[0;34m,\u001b[0m \u001b[0mlabel\u001b[0m\u001b[0;34m)\u001b[0m\u001b[0;34m\u001b[0m\u001b[0m\n\u001b[0m\u001b[1;32m    123\u001b[0m             \u001b[0mD2_loss_real\u001b[0m\u001b[0;34m.\u001b[0m\u001b[0mbackward\u001b[0m\u001b[0;34m(\u001b[0m\u001b[0mretain_graph\u001b[0m\u001b[0;34m=\u001b[0m\u001b[0;32mTrue\u001b[0m\u001b[0;34m)\u001b[0m\u001b[0;34m\u001b[0m\u001b[0m\n\u001b[1;32m    124\u001b[0m \u001b[0;34m\u001b[0m\u001b[0m\n",
      "\u001b[0;32m~/anaconda3/envs/pytorch37/lib/python3.7/site-packages/torch/nn/modules/module.py\u001b[0m in \u001b[0;36m__call__\u001b[0;34m(self, *input, **kwargs)\u001b[0m\n\u001b[1;32m    475\u001b[0m             \u001b[0mresult\u001b[0m \u001b[0;34m=\u001b[0m \u001b[0mself\u001b[0m\u001b[0;34m.\u001b[0m\u001b[0m_slow_forward\u001b[0m\u001b[0;34m(\u001b[0m\u001b[0;34m*\u001b[0m\u001b[0minput\u001b[0m\u001b[0;34m,\u001b[0m \u001b[0;34m**\u001b[0m\u001b[0mkwargs\u001b[0m\u001b[0;34m)\u001b[0m\u001b[0;34m\u001b[0m\u001b[0m\n\u001b[1;32m    476\u001b[0m         \u001b[0;32melse\u001b[0m\u001b[0;34m:\u001b[0m\u001b[0;34m\u001b[0m\u001b[0m\n\u001b[0;32m--> 477\u001b[0;31m             \u001b[0mresult\u001b[0m \u001b[0;34m=\u001b[0m \u001b[0mself\u001b[0m\u001b[0;34m.\u001b[0m\u001b[0mforward\u001b[0m\u001b[0;34m(\u001b[0m\u001b[0;34m*\u001b[0m\u001b[0minput\u001b[0m\u001b[0;34m,\u001b[0m \u001b[0;34m**\u001b[0m\u001b[0mkwargs\u001b[0m\u001b[0;34m)\u001b[0m\u001b[0;34m\u001b[0m\u001b[0m\n\u001b[0m\u001b[1;32m    478\u001b[0m         \u001b[0;32mfor\u001b[0m \u001b[0mhook\u001b[0m \u001b[0;32min\u001b[0m \u001b[0mself\u001b[0m\u001b[0;34m.\u001b[0m\u001b[0m_forward_hooks\u001b[0m\u001b[0;34m.\u001b[0m\u001b[0mvalues\u001b[0m\u001b[0;34m(\u001b[0m\u001b[0;34m)\u001b[0m\u001b[0;34m:\u001b[0m\u001b[0;34m\u001b[0m\u001b[0m\n\u001b[1;32m    479\u001b[0m             \u001b[0mhook_result\u001b[0m \u001b[0;34m=\u001b[0m \u001b[0mhook\u001b[0m\u001b[0;34m(\u001b[0m\u001b[0mself\u001b[0m\u001b[0;34m,\u001b[0m \u001b[0minput\u001b[0m\u001b[0;34m,\u001b[0m \u001b[0mresult\u001b[0m\u001b[0;34m)\u001b[0m\u001b[0;34m\u001b[0m\u001b[0m\n",
      "\u001b[0;32m~/anaconda3/envs/pytorch37/lib/python3.7/site-packages/torch/nn/modules/loss.py\u001b[0m in \u001b[0;36mforward\u001b[0;34m(self, input, target)\u001b[0m\n\u001b[1;32m    419\u001b[0m \u001b[0;34m\u001b[0m\u001b[0m\n\u001b[1;32m    420\u001b[0m     \u001b[0;32mdef\u001b[0m \u001b[0mforward\u001b[0m\u001b[0;34m(\u001b[0m\u001b[0mself\u001b[0m\u001b[0;34m,\u001b[0m \u001b[0minput\u001b[0m\u001b[0;34m,\u001b[0m \u001b[0mtarget\u001b[0m\u001b[0;34m)\u001b[0m\u001b[0;34m:\u001b[0m\u001b[0;34m\u001b[0m\u001b[0m\n\u001b[0;32m--> 421\u001b[0;31m         \u001b[0;32mreturn\u001b[0m \u001b[0mF\u001b[0m\u001b[0;34m.\u001b[0m\u001b[0mmse_loss\u001b[0m\u001b[0;34m(\u001b[0m\u001b[0minput\u001b[0m\u001b[0;34m,\u001b[0m \u001b[0mtarget\u001b[0m\u001b[0;34m,\u001b[0m \u001b[0mreduction\u001b[0m\u001b[0;34m=\u001b[0m\u001b[0mself\u001b[0m\u001b[0;34m.\u001b[0m\u001b[0mreduction\u001b[0m\u001b[0;34m)\u001b[0m\u001b[0;34m\u001b[0m\u001b[0m\n\u001b[0m\u001b[1;32m    422\u001b[0m \u001b[0;34m\u001b[0m\u001b[0m\n\u001b[1;32m    423\u001b[0m \u001b[0;34m\u001b[0m\u001b[0m\n",
      "\u001b[0;32m~/anaconda3/envs/pytorch37/lib/python3.7/site-packages/torch/nn/functional.py\u001b[0m in \u001b[0;36mmse_loss\u001b[0;34m(input, target, size_average, reduce, reduction)\u001b[0m\n\u001b[1;32m   1714\u001b[0m     \u001b[0;32melse\u001b[0m\u001b[0;34m:\u001b[0m\u001b[0;34m\u001b[0m\u001b[0m\n\u001b[1;32m   1715\u001b[0m         \u001b[0mreduction\u001b[0m \u001b[0;34m=\u001b[0m \u001b[0m_Reduction\u001b[0m\u001b[0;34m.\u001b[0m\u001b[0mget_enum\u001b[0m\u001b[0;34m(\u001b[0m\u001b[0mreduction\u001b[0m\u001b[0;34m)\u001b[0m\u001b[0;34m\u001b[0m\u001b[0m\n\u001b[0;32m-> 1716\u001b[0;31m     \u001b[0;32mreturn\u001b[0m \u001b[0m_pointwise_loss\u001b[0m\u001b[0;34m(\u001b[0m\u001b[0;32mlambda\u001b[0m \u001b[0ma\u001b[0m\u001b[0;34m,\u001b[0m \u001b[0mb\u001b[0m\u001b[0;34m:\u001b[0m \u001b[0;34m(\u001b[0m\u001b[0ma\u001b[0m \u001b[0;34m-\u001b[0m \u001b[0mb\u001b[0m\u001b[0;34m)\u001b[0m \u001b[0;34m**\u001b[0m \u001b[0;36m2\u001b[0m\u001b[0;34m,\u001b[0m \u001b[0mtorch\u001b[0m\u001b[0;34m.\u001b[0m\u001b[0m_C\u001b[0m\u001b[0;34m.\u001b[0m\u001b[0m_nn\u001b[0m\u001b[0;34m.\u001b[0m\u001b[0mmse_loss\u001b[0m\u001b[0;34m,\u001b[0m \u001b[0minput\u001b[0m\u001b[0;34m,\u001b[0m \u001b[0mtarget\u001b[0m\u001b[0;34m,\u001b[0m \u001b[0mreduction\u001b[0m\u001b[0;34m)\u001b[0m\u001b[0;34m\u001b[0m\u001b[0m\n\u001b[0m\u001b[1;32m   1717\u001b[0m \u001b[0;34m\u001b[0m\u001b[0m\n\u001b[1;32m   1718\u001b[0m \u001b[0;34m\u001b[0m\u001b[0m\n",
      "\u001b[0;32m~/anaconda3/envs/pytorch37/lib/python3.7/site-packages/torch/nn/functional.py\u001b[0m in \u001b[0;36m_pointwise_loss\u001b[0;34m(lambd, lambd_optimized, input, target, reduction)\u001b[0m\n\u001b[1;32m   1672\u001b[0m         \u001b[0;32mreturn\u001b[0m \u001b[0mtorch\u001b[0m\u001b[0;34m.\u001b[0m\u001b[0mmean\u001b[0m\u001b[0;34m(\u001b[0m\u001b[0md\u001b[0m\u001b[0;34m)\u001b[0m \u001b[0;32mif\u001b[0m \u001b[0mreduction\u001b[0m \u001b[0;34m==\u001b[0m \u001b[0;34m'elementwise_mean'\u001b[0m \u001b[0;32melse\u001b[0m \u001b[0mtorch\u001b[0m\u001b[0;34m.\u001b[0m\u001b[0msum\u001b[0m\u001b[0;34m(\u001b[0m\u001b[0md\u001b[0m\u001b[0;34m)\u001b[0m\u001b[0;34m\u001b[0m\u001b[0m\n\u001b[1;32m   1673\u001b[0m     \u001b[0;32melse\u001b[0m\u001b[0;34m:\u001b[0m\u001b[0;34m\u001b[0m\u001b[0m\n\u001b[0;32m-> 1674\u001b[0;31m         \u001b[0;32mreturn\u001b[0m \u001b[0mlambd_optimized\u001b[0m\u001b[0;34m(\u001b[0m\u001b[0minput\u001b[0m\u001b[0;34m,\u001b[0m \u001b[0mtarget\u001b[0m\u001b[0;34m,\u001b[0m \u001b[0mreduction\u001b[0m\u001b[0;34m)\u001b[0m\u001b[0;34m\u001b[0m\u001b[0m\n\u001b[0m\u001b[1;32m   1675\u001b[0m \u001b[0;34m\u001b[0m\u001b[0m\n\u001b[1;32m   1676\u001b[0m \u001b[0;34m\u001b[0m\u001b[0m\n",
      "\u001b[0;31mKeyboardInterrupt\u001b[0m: "
     ]
    }
   ],
   "source": [
    "run_trainer2(dataloader, G2, D2, opt)"
   ]
  },
  {
   "cell_type": "code",
   "execution_count": null,
   "metadata": {},
   "outputs": [],
   "source": []
  },
  {
   "cell_type": "code",
   "execution_count": null,
   "metadata": {},
   "outputs": [],
   "source": []
  },
  {
   "cell_type": "code",
   "execution_count": null,
   "metadata": {},
   "outputs": [],
   "source": []
  }
 ],
 "metadata": {
  "kernelspec": {
   "display_name": "Python 3",
   "language": "python",
   "name": "python3"
  },
  "language_info": {
   "codemirror_mode": {
    "name": "ipython",
    "version": 3
   },
   "file_extension": ".py",
   "mimetype": "text/x-python",
   "name": "python",
   "nbconvert_exporter": "python",
   "pygments_lexer": "ipython3",
   "version": "3.7.0"
  }
 },
 "nbformat": 4,
 "nbformat_minor": 2
}
