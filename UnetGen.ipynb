{
 "cells": [
  {
   "cell_type": "code",
   "execution_count": 1,
   "metadata": {},
   "outputs": [],
   "source": [
    "import numpy\n",
    "import torch\n",
    "import torch.utils.data\n",
    "import torchvision.transforms as transforms\n",
    "import torchvision.datasets as dset\n",
    "from torch.utils.data import Dataset"
   ]
  },
  {
   "cell_type": "code",
   "execution_count": 2,
   "metadata": {},
   "outputs": [],
   "source": [
    "%load_ext autoreload\n",
    "%autoreload 2\n"
   ]
  },
  {
   "cell_type": "code",
   "execution_count": 3,
   "metadata": {},
   "outputs": [
    {
     "data": {
      "text/plain": [
       "'/home/pytorch/projects/SR_regular_GAN'"
      ]
     },
     "execution_count": 3,
     "metadata": {},
     "output_type": "execute_result"
    }
   ],
   "source": [
    "pwd"
   ]
  },
  {
   "cell_type": "code",
   "execution_count": 4,
   "metadata": {},
   "outputs": [],
   "source": [
    "class Params:\n",
    "    def __init__(self):\n",
    "        self.batchSize = 32\n",
    "        self.Stage1imageSize = 64\n",
    "        self.Stage2imageSize = 128\n",
    "        self.LAMBDA = 10\n",
    "        self.lr= 0.0002\n",
    "        self.nc = 3\n",
    "        self.nz = 100\n",
    "        self.ngf = 64\n",
    "        self.ndf = 64\n",
    "        #for unet \n",
    "        self.nc_out = 512\n",
    "        self.num_downsample = 4\n",
    "        self.dataroot = '/home/pytorch/projects/lsun'\n",
    "        self.workers = 1\n",
    "        self.restart = ''\n",
    "        self.cuda = True\n",
    "        self.beta1 = 0.5\n",
    "opt = Params()"
   ]
  },
  {
   "cell_type": "code",
   "execution_count": 5,
   "metadata": {},
   "outputs": [],
   "source": [
    "#Image superresolution [64x64->128x128]\n",
    "#We would like to do supervised training so as to produce 128x128 images from 64x64 \n",
    "#Together with this, we add adversarial terms. This is a rather roundabout way of reimplementing pix2pix maybe"
   ]
  },
  {
   "cell_type": "code",
   "execution_count": 6,
   "metadata": {},
   "outputs": [],
   "source": [
    "#Pull out things from https://github.com/pytorch/vision/tree/master/torchvision/datasets to create \n",
    "#a new dataset class\n",
    "#We want a dataloader that can emit both 64x64 and 128x128 data at the same time with 'enumerate'\n",
    "#Then we make the generator produce 128x128 taking in 64x64 as input which we then train"
   ]
  },
  {
   "cell_type": "code",
   "execution_count": 7,
   "metadata": {},
   "outputs": [],
   "source": [
    "def make_dataset(dir):\n",
    "    import os\n",
    "    images = []\n",
    "    d = os.path.expanduser(dir)\n",
    "    \n",
    "    if not os.path.exists(dir):\n",
    "        print('path does not exist')\n",
    "\n",
    "    for root, _, fnames in sorted(os.walk(d)):\n",
    "        for fname in sorted(fnames):\n",
    "            path = os.path.join(root, fname)\n",
    "            images.append(path)\n",
    "    return images"
   ]
  },
  {
   "cell_type": "code",
   "execution_count": null,
   "metadata": {},
   "outputs": [],
   "source": []
  },
  {
   "cell_type": "code",
   "execution_count": 8,
   "metadata": {},
   "outputs": [],
   "source": [
    "def pil_loader(path):\n",
    "    from PIL import Image\n",
    "    # open path as file to avoid ResourceWarning (https://github.com/python-pillow/Pillow/issues/835)\n",
    "    with open(path, 'rb') as f:\n",
    "        img = Image.open(f)\n",
    "        return img.convert('RGB')"
   ]
  },
  {
   "cell_type": "code",
   "execution_count": 9,
   "metadata": {},
   "outputs": [],
   "source": [
    "class ImageFolder(Dataset):\n",
    "    \"\"\"A generic data loader where the images are arranged in this way: ::\n",
    "        root/dog/xxx.png\n",
    "        root/dog/xxy.png\n",
    "        root/dog/xxz.png\n",
    "        root/cat/123.png\n",
    "        root/cat/nsdf3.png\n",
    "        root/cat/asd932_.png\n",
    "    Args:\n",
    "        root (string): Root directory path.\n",
    "        transform (callable, optional): A function/transform that  takes in an PIL image\n",
    "            and returns a transformed version. E.g, ``transforms.RandomCrop``\n",
    "        target_transform (callable, optional): A function/transform that takes in the\n",
    "            target and transforms it.\n",
    "        loader (callable, optional): A function to load an image given its path.\n",
    "        is_valid_file (callable, optional): A function that takes path of an Image file\n",
    "            and check if the file is a valid_file (used to check of corrupt files)\n",
    "     Attributes:\n",
    "        classes (list): List of the class names.\n",
    "        class_to_idx (dict): Dict with items (class_name, class_index).\n",
    "        imgs (list): List of (image path, class_index) tuples\n",
    "    \"\"\"\n",
    "\n",
    "    def __init__(self, root, transformA=None, transformB=None):\n",
    "        \n",
    "        self.samples = make_dataset(opt.dataroot)\n",
    "        self.imgs = self.samples\n",
    "        self.transformA = transformA\n",
    "        self.transformB = transformB\n",
    "        \n",
    "    def __getitem__(self, index):\n",
    "        \"\"\"\n",
    "        Args:\n",
    "        index (int): Index\n",
    "        Returns:\n",
    "        tuple: (sample, target) where target is class_index of the target class.\n",
    "        \"\"\"\n",
    "        path = self.samples[index]\n",
    "        sample = pil_loader(path)\n",
    "        \n",
    "        if self.transformA is not None:\n",
    "            sampleA = self.transformA(sample)\n",
    "            \n",
    "        if self.transformB is not None:\n",
    "            sampleB = self.transformB(sample)\n",
    "            \n",
    "        return sampleA, sampleB\n",
    "\n",
    "    def __len__(self):\n",
    "        return len(self.samples)\n"
   ]
  },
  {
   "cell_type": "code",
   "execution_count": 10,
   "metadata": {},
   "outputs": [],
   "source": [
    "transformA = transforms.Compose([\n",
    "                                transforms.Resize(opt.Stage1imageSize),\n",
    "                                transforms.CenterCrop(opt.Stage1imageSize),\n",
    "                                transforms.ToTensor(),\n",
    "                                transforms.Normalize((0.5, 0.5, 0.5), (0.5, 0.5, 0.5)),])\n",
    "\n",
    "transformB = transforms.Compose([\n",
    "                                transforms.Resize(opt.Stage2imageSize),\n",
    "                                transforms.CenterCrop(opt.Stage2imageSize),\n",
    "                                transforms.ToTensor(),\n",
    "                                transforms.Normalize((0.5, 0.5, 0.5), (0.5, 0.5, 0.5)),])"
   ]
  },
  {
   "cell_type": "code",
   "execution_count": 11,
   "metadata": {},
   "outputs": [],
   "source": [
    "dataset = ImageFolder(root=opt.dataroot,\n",
    "                                transformA=transformA,transformB=transformB)\n",
    "\n",
    "#Now we create a dataloader that dumps out both 64x64 and 128x128 when called with 'enumerate'\n",
    "dataloader = torch.utils.data.DataLoader(dataset, batch_size=opt.batchSize,\n",
    "                                         shuffle=True, num_workers=int(opt.workers))"
   ]
  },
  {
   "cell_type": "code",
   "execution_count": 12,
   "metadata": {},
   "outputs": [],
   "source": [
    "#dataloaderStage1, dataloaderStage2 = get_data_loaders(opt)"
   ]
  },
  {
   "cell_type": "code",
   "execution_count": null,
   "metadata": {},
   "outputs": [],
   "source": []
  },
  {
   "cell_type": "code",
   "execution_count": 13,
   "metadata": {},
   "outputs": [],
   "source": [
    "%aimport model\n",
    "#from model import G_Stage1\n",
    "#from model import D_Stage1\n",
    "#from model import G_Stage2\n",
    "from model import D_Stage2\n",
    "from model import get_unet_generator\n",
    "#from model import UnetGenerator\n",
    "#from model import D_Stage2_4x4"
   ]
  },
  {
   "cell_type": "code",
   "execution_count": 14,
   "metadata": {},
   "outputs": [
    {
     "data": {
      "text/plain": [
       "3"
      ]
     },
     "execution_count": 14,
     "metadata": {},
     "output_type": "execute_result"
    }
   ],
   "source": [
    "opt.nc"
   ]
  },
  {
   "cell_type": "code",
   "execution_count": 15,
   "metadata": {},
   "outputs": [],
   "source": [
    "D2 = D_Stage2(opt.nc,opt.ndf)\n",
    "G2 = get_unet_generator(opt.nc, opt.nc_out, opt.num_downsample)\n",
    "\n",
    "if opt.cuda:\n",
    "    D2 = D2.cuda()\n",
    "    G2 = G2.cuda()"
   ]
  },
  {
   "cell_type": "code",
   "execution_count": 16,
   "metadata": {},
   "outputs": [
    {
     "name": "stdout",
     "output_type": "stream",
     "text": [
      "UnetGenerator(\n",
      "  (model): UnetSkipConnectionBlock(\n",
      "    (model): Sequential(\n",
      "      (0): Conv2d(3, 64, kernel_size=(4, 4), stride=(2, 2), padding=(1, 1), bias=False)\n",
      "      (1): UnetSkipConnectionBlock(\n",
      "        (model): Sequential(\n",
      "          (0): LeakyReLU(negative_slope=0.2, inplace)\n",
      "          (1): Conv2d(64, 128, kernel_size=(4, 4), stride=(2, 2), padding=(1, 1), bias=False)\n",
      "          (2): BatchNorm2d(128, eps=1e-05, momentum=0.1, affine=True, track_running_stats=True)\n",
      "          (3): UnetSkipConnectionBlock(\n",
      "            (model): Sequential(\n",
      "              (0): LeakyReLU(negative_slope=0.2, inplace)\n",
      "              (1): Conv2d(128, 256, kernel_size=(4, 4), stride=(2, 2), padding=(1, 1), bias=False)\n",
      "              (2): BatchNorm2d(256, eps=1e-05, momentum=0.1, affine=True, track_running_stats=True)\n",
      "              (3): UnetSkipConnectionBlock(\n",
      "                (model): Sequential(\n",
      "                  (0): LeakyReLU(negative_slope=0.2, inplace)\n",
      "                  (1): Conv2d(256, 512, kernel_size=(4, 4), stride=(2, 2), padding=(1, 1), bias=False)\n",
      "                  (2): BatchNorm2d(512, eps=1e-05, momentum=0.1, affine=True, track_running_stats=True)\n",
      "                  (3): UnetSkipConnectionBlock(\n",
      "                    (model): Sequential(\n",
      "                      (0): LeakyReLU(negative_slope=0.2, inplace)\n",
      "                      (1): Conv2d(512, 512, kernel_size=(4, 4), stride=(2, 2), padding=(1, 1), bias=False)\n",
      "                      (2): ReLU(inplace)\n",
      "                      (3): ConvTranspose2d(512, 512, kernel_size=(4, 4), stride=(2, 2), padding=(1, 1), bias=False)\n",
      "                      (4): BatchNorm2d(512, eps=1e-05, momentum=0.1, affine=True, track_running_stats=True)\n",
      "                    )\n",
      "                  )\n",
      "                  (4): ReLU(inplace)\n",
      "                  (5): ConvTranspose2d(1024, 256, kernel_size=(4, 4), stride=(2, 2), padding=(1, 1), bias=False)\n",
      "                  (6): BatchNorm2d(256, eps=1e-05, momentum=0.1, affine=True, track_running_stats=True)\n",
      "                )\n",
      "              )\n",
      "              (4): ReLU(inplace)\n",
      "              (5): ConvTranspose2d(512, 128, kernel_size=(4, 4), stride=(2, 2), padding=(1, 1), bias=False)\n",
      "              (6): BatchNorm2d(128, eps=1e-05, momentum=0.1, affine=True, track_running_stats=True)\n",
      "            )\n",
      "          )\n",
      "          (4): ReLU(inplace)\n",
      "          (5): ConvTranspose2d(256, 64, kernel_size=(4, 4), stride=(2, 2), padding=(1, 1), bias=False)\n",
      "          (6): BatchNorm2d(64, eps=1e-05, momentum=0.1, affine=True, track_running_stats=True)\n",
      "        )\n",
      "      )\n",
      "      (2): ReLU(inplace)\n",
      "      (3): ConvTranspose2d(128, 512, kernel_size=(4, 4), stride=(2, 2), padding=(1, 1))\n",
      "      (4): BatchNorm2d(512, eps=1e-05, momentum=0.1, affine=True, track_running_stats=True)\n",
      "      (5): ConvTranspose2d(512, 3, kernel_size=(4, 4), stride=(2, 2), padding=(1, 1))\n",
      "      (6): Tanh()\n",
      "    )\n",
      "  )\n",
      ")\n"
     ]
    }
   ],
   "source": [
    "print(G2)"
   ]
  },
  {
   "cell_type": "code",
   "execution_count": 17,
   "metadata": {},
   "outputs": [],
   "source": [
    "x = torch.randn(1,3,64,64)\n",
    "x = x.cuda()"
   ]
  },
  {
   "cell_type": "code",
   "execution_count": 18,
   "metadata": {},
   "outputs": [],
   "source": [
    "y=G2(x)"
   ]
  },
  {
   "cell_type": "code",
   "execution_count": 21,
   "metadata": {},
   "outputs": [
    {
     "name": "stdout",
     "output_type": "stream",
     "text": [
      "torch.Size([1, 3, 128, 128])\n"
     ]
    }
   ],
   "source": [
    "print(y.size())"
   ]
  },
  {
   "cell_type": "code",
   "execution_count": null,
   "metadata": {},
   "outputs": [],
   "source": []
  },
  {
   "cell_type": "code",
   "execution_count": 22,
   "metadata": {},
   "outputs": [],
   "source": [
    "%aimport train2\n",
    "from train2 import run_trainer2"
   ]
  },
  {
   "cell_type": "code",
   "execution_count": null,
   "metadata": {
    "scrolled": true
   },
   "outputs": [
    {
     "name": "stdout",
     "output_type": "stream",
     "text": [
      "saving images for batch 0\n",
      "0 [0/94783] G Loss [L1/GAdv] [0.4520/0.0801] Loss D (real/fake) [0.9843/0.0098]\n",
      "saving images for batch 100\n",
      "0 [100/94783] G Loss [L1/GAdv] [0.1448/0.0042] Loss D (real/fake) [0.1436/0.2415]\n",
      "saving images for batch 200\n",
      "0 [200/94783] G Loss [L1/GAdv] [0.1052/0.0039] Loss D (real/fake) [0.1332/0.1947]\n",
      "saving images for batch 300\n",
      "0 [300/94783] G Loss [L1/GAdv] [0.0946/0.0036] Loss D (real/fake) [0.3045/0.0769]\n",
      "saving images for batch 400\n",
      "0 [400/94783] G Loss [L1/GAdv] [0.0861/0.0025] Loss D (real/fake) [0.1853/0.1837]\n",
      "saving images for batch 500\n",
      "0 [500/94783] G Loss [L1/GAdv] [0.0821/0.0026] Loss D (real/fake) [0.2595/0.1159]\n",
      "saving images for batch 600\n",
      "0 [600/94783] G Loss [L1/GAdv] [0.0770/0.0021] Loss D (real/fake) [0.2146/0.1558]\n",
      "saving images for batch 700\n",
      "0 [700/94783] G Loss [L1/GAdv] [0.0663/0.0010] Loss D (real/fake) [0.2952/0.1048]\n",
      "saving images for batch 800\n",
      "0 [800/94783] G Loss [L1/GAdv] [0.0712/0.0035] Loss D (real/fake) [0.0855/0.3732]\n",
      "saving images for batch 900\n",
      "0 [900/94783] G Loss [L1/GAdv] [0.0747/0.0039] Loss D (real/fake) [0.3169/0.0317]\n",
      "saving images for batch 1000\n",
      "0 [1000/94783] G Loss [L1/GAdv] [0.0918/0.0035] Loss D (real/fake) [0.3454/0.0325]\n",
      "saving images for batch 1100\n",
      "0 [1100/94783] G Loss [L1/GAdv] [0.0799/0.0018] Loss D (real/fake) [0.1860/0.2358]\n",
      "saving images for batch 1200\n",
      "0 [1200/94783] G Loss [L1/GAdv] [0.0722/0.0026] Loss D (real/fake) [0.2972/0.1291]\n",
      "saving images for batch 1300\n",
      "0 [1300/94783] G Loss [L1/GAdv] [0.0697/0.0030] Loss D (real/fake) [0.1199/0.1962]\n",
      "saving images for batch 1400\n",
      "0 [1400/94783] G Loss [L1/GAdv] [0.0720/0.0039] Loss D (real/fake) [0.2412/0.0418]\n",
      "saving images for batch 1500\n",
      "0 [1500/94783] G Loss [L1/GAdv] [0.0896/0.0027] Loss D (real/fake) [0.1602/0.1876]\n",
      "saving images for batch 1600\n",
      "0 [1600/94783] G Loss [L1/GAdv] [0.0766/0.0027] Loss D (real/fake) [0.1838/0.1838]\n",
      "saving images for batch 1700\n",
      "0 [1700/94783] G Loss [L1/GAdv] [0.0654/0.0031] Loss D (real/fake) [0.1526/0.2400]\n",
      "saving images for batch 1800\n",
      "0 [1800/94783] G Loss [L1/GAdv] [0.0654/0.0030] Loss D (real/fake) [0.1487/0.1755]\n",
      "saving images for batch 1900\n",
      "0 [1900/94783] G Loss [L1/GAdv] [0.0607/0.0019] Loss D (real/fake) [0.1859/0.2066]\n",
      "saving images for batch 2000\n",
      "0 [2000/94783] G Loss [L1/GAdv] [0.0646/0.0018] Loss D (real/fake) [0.1931/0.1681]\n",
      "saving images for batch 2100\n",
      "0 [2100/94783] G Loss [L1/GAdv] [0.0782/0.0029] Loss D (real/fake) [0.3649/0.0975]\n",
      "saving images for batch 2200\n",
      "0 [2200/94783] G Loss [L1/GAdv] [0.0697/0.0030] Loss D (real/fake) [0.2157/0.1290]\n",
      "saving images for batch 2300\n",
      "0 [2300/94783] G Loss [L1/GAdv] [0.0695/0.0024] Loss D (real/fake) [0.2785/0.0814]\n",
      "saving images for batch 2400\n",
      "0 [2400/94783] G Loss [L1/GAdv] [0.0758/0.0027] Loss D (real/fake) [0.1528/0.2304]\n",
      "saving images for batch 2500\n",
      "0 [2500/94783] G Loss [L1/GAdv] [0.0809/0.0037] Loss D (real/fake) [0.3340/0.0309]\n",
      "saving images for batch 2600\n",
      "0 [2600/94783] G Loss [L1/GAdv] [0.0941/0.0035] Loss D (real/fake) [0.2064/0.1892]\n",
      "saving images for batch 2700\n",
      "0 [2700/94783] G Loss [L1/GAdv] [0.0694/0.0026] Loss D (real/fake) [0.1611/0.1958]\n",
      "saving images for batch 2800\n",
      "0 [2800/94783] G Loss [L1/GAdv] [0.0584/0.0026] Loss D (real/fake) [0.1906/0.1447]\n",
      "saving images for batch 2900\n",
      "0 [2900/94783] G Loss [L1/GAdv] [0.0766/0.0040] Loss D (real/fake) [0.2275/0.2321]\n",
      "saving images for batch 3000\n",
      "0 [3000/94783] G Loss [L1/GAdv] [0.0603/0.0042] Loss D (real/fake) [0.1607/0.1610]\n",
      "saving images for batch 3100\n",
      "0 [3100/94783] G Loss [L1/GAdv] [0.0655/0.0020] Loss D (real/fake) [0.2189/0.1382]\n",
      "saving images for batch 3200\n",
      "0 [3200/94783] G Loss [L1/GAdv] [0.0672/0.0023] Loss D (real/fake) [0.2114/0.1281]\n",
      "saving images for batch 3300\n",
      "0 [3300/94783] G Loss [L1/GAdv] [0.0594/0.0028] Loss D (real/fake) [0.1552/0.2220]\n",
      "saving images for batch 3400\n",
      "0 [3400/94783] G Loss [L1/GAdv] [0.0972/0.0031] Loss D (real/fake) [0.2089/0.5630]\n",
      "saving images for batch 3500\n",
      "0 [3500/94783] G Loss [L1/GAdv] [0.0712/0.0029] Loss D (real/fake) [0.1370/0.1485]\n",
      "saving images for batch 3600\n",
      "0 [3600/94783] G Loss [L1/GAdv] [0.0529/0.0031] Loss D (real/fake) [0.1668/0.1380]\n",
      "saving images for batch 3700\n",
      "0 [3700/94783] G Loss [L1/GAdv] [0.0518/0.0021] Loss D (real/fake) [0.2680/0.0764]\n",
      "saving images for batch 3800\n",
      "0 [3800/94783] G Loss [L1/GAdv] [0.0567/0.0039] Loss D (real/fake) [0.1876/0.0810]\n",
      "saving images for batch 3900\n",
      "0 [3900/94783] G Loss [L1/GAdv] [0.0610/0.0042] Loss D (real/fake) [0.1537/0.1136]\n",
      "saving images for batch 4000\n",
      "0 [4000/94783] G Loss [L1/GAdv] [0.0932/0.0030] Loss D (real/fake) [0.1714/0.1898]\n",
      "saving images for batch 4100\n",
      "0 [4100/94783] G Loss [L1/GAdv] [0.0676/0.0041] Loss D (real/fake) [0.1566/0.1669]\n",
      "saving images for batch 4200\n",
      "0 [4200/94783] G Loss [L1/GAdv] [0.0630/0.0041] Loss D (real/fake) [0.1760/0.2232]\n",
      "saving images for batch 4300\n",
      "0 [4300/94783] G Loss [L1/GAdv] [0.0528/0.0034] Loss D (real/fake) [0.1934/0.1027]\n"
     ]
    }
   ],
   "source": [
    "run_trainer2(dataloader, G2, D2, opt)"
   ]
  },
  {
   "cell_type": "code",
   "execution_count": null,
   "metadata": {},
   "outputs": [],
   "source": []
  },
  {
   "cell_type": "code",
   "execution_count": null,
   "metadata": {},
   "outputs": [],
   "source": []
  },
  {
   "cell_type": "code",
   "execution_count": null,
   "metadata": {},
   "outputs": [],
   "source": []
  }
 ],
 "metadata": {
  "kernelspec": {
   "display_name": "Python 3",
   "language": "python",
   "name": "python3"
  },
  "language_info": {
   "codemirror_mode": {
    "name": "ipython",
    "version": 3
   },
   "file_extension": ".py",
   "mimetype": "text/x-python",
   "name": "python",
   "nbconvert_exporter": "python",
   "pygments_lexer": "ipython3",
   "version": "3.7.0"
  }
 },
 "nbformat": 4,
 "nbformat_minor": 2
}
